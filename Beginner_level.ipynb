{
 "cells": [
  {
   "cell_type": "markdown",
   "id": "57ef3243",
   "metadata": {},
   "source": [
    "# 1. Variables"
   ]
  },
  {
   "cell_type": "markdown",
   "id": "7604d701",
   "metadata": {},
   "source": [
    "1. Create a variable named pi and store the value 22/7 in it.Now check the data type of this variable."
   ]
  },
  {
   "cell_type": "code",
   "execution_count": 1,
   "id": "8055e4ec",
   "metadata": {},
   "outputs": [],
   "source": [
    "pi=22/7"
   ]
  },
  {
   "cell_type": "code",
   "execution_count": 2,
   "id": "0f8afbe9",
   "metadata": {},
   "outputs": [
    {
     "data": {
      "text/plain": [
       "float"
      ]
     },
     "execution_count": 2,
     "metadata": {},
     "output_type": "execute_result"
    }
   ],
   "source": [
    "type(pi)"
   ]
  },
  {
   "cell_type": "markdown",
   "id": "e1dc752e",
   "metadata": {},
   "source": [
    "2. Create a variable called for and assign it a value 4. See what happens and find out the reason behind the behavior that you see."
   ]
  },
  {
   "cell_type": "code",
   "execution_count": 3,
   "id": "9b853b2b",
   "metadata": {},
   "outputs": [
    {
     "ename": "SyntaxError",
     "evalue": "invalid syntax (3639871942.py, line 1)",
     "output_type": "error",
     "traceback": [
      "\u001b[1;36m  Cell \u001b[1;32mIn[3], line 1\u001b[1;36m\u001b[0m\n\u001b[1;33m    for=4\u001b[0m\n\u001b[1;37m       ^\u001b[0m\n\u001b[1;31mSyntaxError\u001b[0m\u001b[1;31m:\u001b[0m invalid syntax\n"
     ]
    }
   ],
   "source": [
    "for=4"
   ]
  },
  {
   "cell_type": "markdown",
   "id": "d45aadb4",
   "metadata": {},
   "source": [
    "3. Store the principal amount, rate of interest, and time in different variables and then calculate the Simple Interest for 3years. Formula: Simple Interest = P x R x T / 100"
   ]
  },
  {
   "cell_type": "code",
   "execution_count": 4,
   "id": "57f3c2a7",
   "metadata": {},
   "outputs": [
    {
     "name": "stdout",
     "output_type": "stream",
     "text": [
      "The Simple Interest is 2500.0\n"
     ]
    }
   ],
   "source": [
    "Pa=10000\n",
    "Ri=5\n",
    "T=5\n",
    "Si = (Pa * Ri * T)/100\n",
    "print('The Simple Interest is', Si)"
   ]
  },
  {
   "cell_type": "markdown",
   "id": "67943758",
   "metadata": {},
   "source": [
    "# 2. Numbers"
   ]
  },
  {
   "cell_type": "markdown",
   "id": "92c33139",
   "metadata": {},
   "source": [
    "1. Write a function that takes two arguments, 145 and 'o', and uses the `format` function to return a formatted string. Print the result. Try to identify the representation used."
   ]
  },
  {
   "cell_type": "code",
   "execution_count": 5,
   "id": "82ce67b7",
   "metadata": {},
   "outputs": [
    {
     "name": "stdout",
     "output_type": "stream",
     "text": [
      "221\n"
     ]
    }
   ],
   "source": [
    "def number(num, format_spec):\n",
    "    str = format(num, format_spec)\n",
    "    return str\n",
    "\n",
    "result = number(145, 'o')\n",
    "print(result)"
   ]
  },
  {
   "cell_type": "markdown",
   "id": "526ef609",
   "metadata": {},
   "source": [
    "2. In a village, there is a circular pond with a radius of 84 meters.Calculate the area of the pond using the formula: Circle Area = π r^2. (Use the value 3.14 for π) Bonus Question: If there is exactly 1.4 liters of water in a square meter, what is the total amount of water in the pond? Print the answer without any decimal point in it. Hint: Circle Area = π r^2 Water in the pond = Pond Area Water per Square Meter"
   ]
  },
  {
   "cell_type": "code",
   "execution_count": 6,
   "id": "f044d15c",
   "metadata": {},
   "outputs": [
    {
     "name": "stdout",
     "output_type": "stream",
     "text": [
      "Area of the pond : 527.52\n"
     ]
    }
   ],
   "source": [
    "radius=84\n",
    "Pi=3.14\n",
    "Area=Pi*radius*2\n",
    "print(\"Area of the pond :\",Area)"
   ]
  },
  {
   "cell_type": "markdown",
   "id": "60856732",
   "metadata": {},
   "source": [
    "3. If you cross a 490 meterlong street in 7 minutes, calculate your speed in meters per second. Print the answer without any decimal point in it. Hint: Speed = Distance / Time"
   ]
  },
  {
   "cell_type": "code",
   "execution_count": 7,
   "id": "e48aa8e4",
   "metadata": {},
   "outputs": [
    {
     "name": "stdout",
     "output_type": "stream",
     "text": [
      "The calculated speen in m/s : 70\n"
     ]
    }
   ],
   "source": [
    "Dist=490\n",
    "Time=7\n",
    "Speed=Dist//Time\n",
    "print(\"The calculated speen in m/s :\",Speed)"
   ]
  },
  {
   "cell_type": "markdown",
   "id": "68ffb25c",
   "metadata": {},
   "source": [
    "# 3. List"
   ]
  },
  {
   "cell_type": "markdown",
   "id": "3154f3f3",
   "metadata": {},
   "source": [
    "1. You have a list of superheroes representing the Justice League. justice_league = [\"Superman\",\"Batman\",\"WonderWoman\",\"Flash\", \"Aquaman\",\"Green Lantern\"]\n",
    "    \n",
    "    Perform the following tasks:"
   ]
  },
  {
   "cell_type": "code",
   "execution_count": 8,
   "id": "3885dc44",
   "metadata": {},
   "outputs": [],
   "source": [
    "justice_league = [\"Superman\",\"Batman\",\"WonderWoman\",\"Flash\",\"Aquaman\",\"Green Lantern\"]"
   ]
  },
  {
   "cell_type": "markdown",
   "id": "85d19815",
   "metadata": {},
   "source": [
    "1.Calculate the number of members in the Justice League."
   ]
  },
  {
   "cell_type": "code",
   "execution_count": 9,
   "id": "232b16ac",
   "metadata": {},
   "outputs": [
    {
     "name": "stdout",
     "output_type": "stream",
     "text": [
      "6\n"
     ]
    }
   ],
   "source": [
    "print(len(justice_league))"
   ]
  },
  {
   "cell_type": "markdown",
   "id": "e06266a3",
   "metadata": {},
   "source": [
    "2.Batman recruited Batgirl and Nightwing as new members.Add them to your list."
   ]
  },
  {
   "cell_type": "code",
   "execution_count": 10,
   "id": "f7500ca3",
   "metadata": {},
   "outputs": [
    {
     "name": "stdout",
     "output_type": "stream",
     "text": [
      "['Superman', 'Batman', 'WonderWoman', 'Flash', 'Aquaman', 'Green Lantern', 'Batgirl', 'Nightwing']\n"
     ]
    }
   ],
   "source": [
    "justice_league.append(\"Batgirl\")\n",
    "justice_league.append(\"Nightwing\")\n",
    "print(justice_league)"
   ]
  },
  {
   "cell_type": "markdown",
   "id": "ebe23ddf",
   "metadata": {},
   "source": [
    "3.Wonder Woman is now the leader of the Justice League.Move her to the beginning of the list."
   ]
  },
  {
   "cell_type": "code",
   "execution_count": 11,
   "id": "9990b516",
   "metadata": {},
   "outputs": [
    {
     "name": "stdout",
     "output_type": "stream",
     "text": [
      "2\n",
      "WonderWoman\n",
      "['WonderWoman', 'Superman', 'Batman', 'Flash', 'Aquaman', 'Green Lantern', 'Batgirl', 'Nightwing']\n"
     ]
    }
   ],
   "source": [
    "wonder_woman_index=justice_league.index(\"WonderWoman\")\n",
    "print(wonder_woman_index)\n",
    "wonder_woman = justice_league.pop(wonder_woman_index)\n",
    "print(wonder_woman)\n",
    "justice_league.insert(0, wonder_woman)\n",
    "print(justice_league)"
   ]
  },
  {
   "cell_type": "markdown",
   "id": "953b7677",
   "metadata": {},
   "source": [
    "4.Aquaman and Flash are having conflicts, and you need to\n",
    "separate them. Choose either \"Green Lantern\" or \"Superman\"\n",
    "and move them in between Aquaman and Flash."
   ]
  },
  {
   "cell_type": "code",
   "execution_count": 12,
   "id": "344e4561",
   "metadata": {},
   "outputs": [
    {
     "name": "stdout",
     "output_type": "stream",
     "text": [
      "['WonderWoman', 'Superman', 'Batman', 'Flash', 'Aquaman', 'Batgirl', 'Nightwing']\n",
      "4\n",
      "['WonderWoman', 'Superman', 'Batman', 'Flash', 'Aquaman', 'Green Lantern', 'Batgirl', 'Nightwing']\n"
     ]
    }
   ],
   "source": [
    "justice_league.remove(\"Green Lantern\")\n",
    "print(justice_league)\n",
    "aquaman_index = justice_league.index(\"Aquaman\")\n",
    "print(aquaman_index)\n",
    "justice_league.insert(aquaman_index + 1, \"Green Lantern\")\n",
    "print(justice_league)\n"
   ]
  },
  {
   "cell_type": "markdown",
   "id": "9f7e31c0",
   "metadata": {},
   "source": [
    "5.The Justice League faced a crisis, and Superman decided to assemble a new team. Replace the existing list with the following\n",
    "new members: \"Cyborg\",\"Shazam\",\"Hawkgirl\",\"MartianManhunter\",\"Green Arrow\"."
   ]
  },
  {
   "cell_type": "code",
   "execution_count": 13,
   "id": "6f902906",
   "metadata": {},
   "outputs": [
    {
     "name": "stdout",
     "output_type": "stream",
     "text": [
      "['Cyborg', 'Shazam', 'Hawkgirl', 'MartianManhunter', 'Green Arrow']\n"
     ]
    }
   ],
   "source": [
    "justice_league=[\"Cyborg\",\"Shazam\",\"Hawkgirl\",\"MartianManhunter\",\"Green Arrow\"]\n",
    "print(justice_league)"
   ]
  },
  {
   "cell_type": "markdown",
   "id": "24244ccc",
   "metadata": {},
   "source": [
    "6. Sort the Justice League alphabetically. The hero at the 0th index will become the new leader."
   ]
  },
  {
   "cell_type": "code",
   "execution_count": 14,
   "id": "0ade7087",
   "metadata": {},
   "outputs": [
    {
     "name": "stdout",
     "output_type": "stream",
     "text": [
      "Before Sorting : ['Cyborg', 'Shazam', 'Hawkgirl', 'MartianManhunter', 'Green Arrow']\n",
      "After Sorting ['Cyborg', 'Green Arrow', 'Hawkgirl', 'MartianManhunter', 'Shazam']\n"
     ]
    }
   ],
   "source": [
    "justice_league=[\"Cyborg\",\"Shazam\",\"Hawkgirl\",\"MartianManhunter\",\"Green Arrow\"]\n",
    "print(\"Before Sorting :\",justice_league)\n",
    "justice_league.sort()\n",
    "print(\"After Sorting\",justice_league)"
   ]
  },
  {
   "cell_type": "markdown",
   "id": "7a3a7de8",
   "metadata": {},
   "source": [
    "\"Cyborg\" is hero of the list justice_league."
   ]
  },
  {
   "cell_type": "markdown",
   "id": "db17b5cc",
   "metadata": {},
   "source": [
    "# 4. If Condition"
   ]
  },
  {
   "cell_type": "markdown",
   "id": "6c60063c",
   "metadata": {},
   "source": [
    "1. Write a program to determine the BMI Category based on user input.\n",
    "\n",
    "    Ask the user to:\n",
    "    Enter height in meters\n",
    "    \n",
    "    Enter weight in kilograms\n",
    "    \n",
    "    Calculate BMI using the formula: BMI = weight / (height)2\n",
    "    \n",
    "    Use the following categories:\n",
    "    \n",
    "    If BMI is 30 or greater, print \"Obesity\"\n",
    "    \n",
    "    If BMI is between 25 and 29, print \"Overweight\"\n",
    "    \n",
    "    If BMI is between 18.5 and 25, print \"Normal\"\n",
    "    \n",
    "    If BMI is less than 18.5, print \"Underweight\"\n",
    "    \n",
    "    Example:\n",
    "    \n",
    "    Enter height in meters: 1.75\n",
    "    \n",
    "    Enter weight in kilograms: 70\n",
    "    \n",
    "    Output: \"Normal\""
   ]
  },
  {
   "cell_type": "code",
   "execution_count": 15,
   "id": "d0f4a83d",
   "metadata": {},
   "outputs": [
    {
     "name": "stdout",
     "output_type": "stream",
     "text": [
      "Enter height in meters: 1.80\n",
      "Enter weight in kilograms: 65\n",
      "Normal\n"
     ]
    }
   ],
   "source": [
    "def calculate_bmi():\n",
    "    height = float(input(\"Enter height in meters: \"))\n",
    "    weight = float(input(\"Enter weight in kilograms: \"))\n",
    "    bmi = weight / (height ** 2)\n",
    "    if bmi >= 30:\n",
    "        print(\"Obesity\")\n",
    "    elif 25 <= bmi < 30:\n",
    "        print(\"Overweight\")\n",
    "    elif 18.5 <= bmi < 25:\n",
    "        print(\"Normal\")\n",
    "    else:\n",
    "        print(\"Underweight\")\n",
    "calculate_bmi()"
   ]
  },
  {
   "cell_type": "markdown",
   "id": "2f81bb7e",
   "metadata": {},
   "source": [
    "2. Write a program to determine which country a city belongs to. Given list of cities per country:\n",
    "    \n",
    "    Australia = [\"Sydney\",\"Melbourne\",\"Brisbane\",\"Perth\"]\n",
    "\n",
    "    UAE = [\"Dubai\",\"Abu Dhabi\",\"Sharjah\",\"Ajman\"]\n",
    "\n",
    "    India = [\"Mumbai\",\"Bangalore\",\"Chennai\",\"Delhi\"]\n",
    "\n",
    "    Ask the user to enter a city name and print the corresponding country.\n",
    "\n",
    "    Example:\n",
    "\n",
    "    Enter a city name: \"Abu Dhabi\"\n",
    "\n",
    "    Output: \"Abu Dhabi is in UAE\""
   ]
  },
  {
   "cell_type": "code",
   "execution_count": 19,
   "id": "bff38ce6",
   "metadata": {},
   "outputs": [
    {
     "name": "stdout",
     "output_type": "stream",
     "text": [
      "Enter a city name: Abu Dhabi\n",
      "Abu Dhabi is in UAE\n"
     ]
    }
   ],
   "source": [
    "australia = [\"Sydney\", \"Melbourne\", \"Brisbane\", \"Perth\"]\n",
    "UAE = [\"Dubai\", \"Abu Dhabi\", \"Sharjah\", \"Ajman\"]\n",
    "INDIA = [\"Mumbai\", \"Bangalore\", \"Chennai\", \"Delhi\"]\n",
    "\n",
    "city = input(\"Enter a city name: \")\n",
    "\n",
    "if city in australia:\n",
    "    print(city,\"is in Australia\")\n",
    "elif city in UAE:\n",
    "    print(city,\"is in UAE\")\n",
    "elif city in INDIA:\n",
    "    print(city,\"is in India\")\n",
    "else:\n",
    "    print(\"City not found.\")"
   ]
  },
  {
   "cell_type": "markdown",
   "id": "28251496",
   "metadata": {},
   "source": [
    "3. Write a program to check if two cities belong to the same country.Ask the user to enter two cities and print whether \n",
    "    they belong to the same country or not.\n",
    "\n",
    "    Example:\n",
    "\n",
    "    Enter the first city: \"Mumbai\"\n",
    "\n",
    "    Enter the second city: \"Chennai\"\n",
    "\n",
    "    Output: \"Both cities are in India\"\n",
    "\n",
    "    Example:\n",
    "\n",
    "    Enter the first city: \"Sydney\"\n",
    "\n",
    "    Enter the second city: \"Dubai\"\n",
    "\n",
    "    Output: \"They don't belong to the same country\""
   ]
  },
  {
   "cell_type": "code",
   "execution_count": 21,
   "id": "2217645f",
   "metadata": {},
   "outputs": [
    {
     "name": "stdout",
     "output_type": "stream",
     "text": [
      "Enter the first city: Sydney\n",
      "Enter the second city: Dubai\n",
      "They don't belong to the same country\n"
     ]
    }
   ],
   "source": [
    "Australia_cities = [\"Sydney\", \"Melbourne\", \"Brisbane\", \"Perth\"]\n",
    "UAE_cities = [\"Dubai\", \"Abu Dhabi\", \"Sharjah\", \"Ajman\"]\n",
    "India_cities = [\"Mumbai\", \"Bangalore\", \"Chennai\", \"Delhi\"]\n",
    "\n",
    "city1 = input(\"Enter the first city: \")\n",
    "city2 = input(\"Enter the second city: \")\n",
    "\n",
    "def find_country(city):\n",
    "    if city in Australia_cities:\n",
    "        return \"Australia\"\n",
    "    elif city in UAE_cities:\n",
    "        return \"UAE\"\n",
    "    elif city in India_cities:\n",
    "        return \"India\"\n",
    "    else:\n",
    "        return None\n",
    "\n",
    "    \n",
    "country1 = find_country(city1)\n",
    "country2 = find_country(city2)\n",
    "\n",
    "if country1 and country2:\n",
    "    if country1 == country2:\n",
    "        print(f\"Both cities are in {country1}\")\n",
    "    else:\n",
    "        print(\"They don't belong to the same country\")\n",
    "else:\n",
    "    if not country1:\n",
    "        print(f\"{city1} is not in the list of known cities.\")\n",
    "    if not country2:\n",
    "        print(f\"{city2} is not in the list of known cities.\")"
   ]
  },
  {
   "cell_type": "markdown",
   "id": "e97ec584",
   "metadata": {},
   "source": [
    "# 6. Dictionary"
   ]
  },
  {
   "cell_type": "markdown",
   "id": "57409ff1",
   "metadata": {},
   "source": [
    "1. Create a list of your friends' names. The list should have at least 5 names.Create a list of tuples. Each tuple should contain a friend's name and the length of the name.\n",
    "\n",
    "    For example, if someone’s name is Aditya, the tuple would be: ('Aditya', 6)"
   ]
  },
  {
   "cell_type": "code",
   "execution_count": 22,
   "id": "8ae7b271",
   "metadata": {},
   "outputs": [
    {
     "name": "stdout",
     "output_type": "stream",
     "text": [
      "[('Loki', 4), ('Boby', 4), ('Ravi', 4), ('Sai', 3), ('Eswar', 5)]\n"
     ]
    }
   ],
   "source": [
    "friends = [\"Loki\", \"Boby\", \"Ravi\", \"Sai\", \"Eswar\"]\n",
    "\n",
    "friends_lengths = [(name, len(name)) for name in friends]\n",
    "\n",
    "print(friends_lengths)"
   ]
  },
  {
   "cell_type": "markdown",
   "id": "564e982a",
   "metadata": {},
   "source": [
    "2.You and your partner are planning a trip, and you want to track expenses.Create two dictionaries, one for your expenses and one for your partner's expenses. Each dictionary should contain at least 5 expense categories and theircorresponding amounts.\n",
    "\n",
    "    For example:\n",
    "\n",
    "    Your expenses\n",
    "\n",
    "    your_expenses = {\"Hotel\": 1200,\"Food\": 800,\"Transportation\": 500,\"Attractions\": 300,\"Miscellaneous\": 200}\n",
    "\n",
    "    Your partner's expenses\n",
    "\n",
    "    partner_expenses = {\"Hotel\": 1000,\"Food\": 900,\"Transportation\": 600,\"Attractions\": 400,\"Miscellaneous\": 150}\n",
    "\n",
    "    Calculate the total expenses for each of you and print the results.\n",
    "\n",
    "    Determine who spent more money overall and print the result.\n",
    "\n",
    "    Find out the expense category where there is a significant difference in spendingbetween you and your partner.\n",
    "    \n",
    "    Print the category and the difference."
   ]
  },
  {
   "cell_type": "code",
   "execution_count": 25,
   "id": "8d319c46",
   "metadata": {},
   "outputs": [
    {
     "name": "stdout",
     "output_type": "stream",
     "text": [
      "Your total expenses: 3000\n",
      "Your partner's total expenses: 3050\n",
      "Your partner spent more money overall.\n",
      "The expense category with the most significant difference is Hotel with a difference of 200.\n"
     ]
    }
   ],
   "source": [
    "your_expenses = {\n",
    "    \"Hotel\": 1200,\n",
    "    \"Food\": 800,\n",
    "    \"Transportation\": 500,\n",
    "    \"Attractions\": 300,\n",
    "    \"Miscellaneous\": 200\n",
    "}\n",
    "\n",
    "partner_expenses = {\n",
    "    \"Hotel\": 1000,\n",
    "    \"Food\": 900,\n",
    "    \"Transportation\": 600,\n",
    "    \"Attractions\": 400,\n",
    "    \"Miscellaneous\": 150\n",
    "}\n",
    "\n",
    "total_your_expenses = sum(your_expenses.values())\n",
    "total_partner_expenses = sum(partner_expenses.values())\n",
    "\n",
    "print(f\"Your total expenses: {total_your_expenses}\")\n",
    "print(f\"Your partner's total expenses: {total_partner_expenses}\")\n",
    "\n",
    "\n",
    "if total_your_expenses > total_partner_expenses:\n",
    "    print(\"You spent more money overall.\")\n",
    "elif total_your_expenses < total_partner_expenses:\n",
    "    print(\"Your partner spent more money overall.\")\n",
    "else:\n",
    "    print(\"Both spent the same amount of money overall.\")\n",
    "\n",
    "    \n",
    "max_difference = 0\n",
    "max_difference_category = None\n",
    "\n",
    "for category in your_expenses:\n",
    "    difference = abs(your_expenses[category] - partner_expenses[category])\n",
    "    if difference > max_difference:\n",
    "        max_difference = difference\n",
    "        max_difference_category = category\n",
    "\n",
    "print(f\"The expense category with the most significant difference is {max_difference_category} with a difference of {max_difference}.\")\n"
   ]
  },
  {
   "cell_type": "code",
   "execution_count": null,
   "id": "160fdbd7",
   "metadata": {},
   "outputs": [],
   "source": []
  }
 ],
 "metadata": {
  "kernelspec": {
   "display_name": "Python 3 (ipykernel)",
   "language": "python",
   "name": "python3"
  },
  "language_info": {
   "codemirror_mode": {
    "name": "ipython",
    "version": 3
   },
   "file_extension": ".py",
   "mimetype": "text/x-python",
   "name": "python",
   "nbconvert_exporter": "python",
   "pygments_lexer": "ipython3",
   "version": "3.11.5"
  }
 },
 "nbformat": 4,
 "nbformat_minor": 5
}
